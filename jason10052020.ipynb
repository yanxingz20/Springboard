{
 "cells": [
  {
   "cell_type": "code",
   "execution_count": 3,
   "metadata": {},
   "outputs": [],
   "source": []
  },
  {
   "cell_type": "code",
   "execution_count": 8,
   "metadata": {},
   "outputs": [
    {
     "name": "stdout",
     "output_type": "stream",
     "text": [
      "{\"report\": [{\"enrollment\": \"rit2011001\", \"name\": \"Julia\", \"subject\": [{\"code\": \"DSA\", \"grade\": \"A\"}]}, {\"enrollment\": \"rit2011020\", \"name\": \"Samantha\", \"subject\": [{\"code\": \"COM\", \"grade\": \"B\"}, {\"code\": \"DSA\", \"grade\": \"A\"}]}]}\n",
      "report\n",
      "report : [{'enrollment': 'rit2011001', 'name': 'Julia', 'subject': [{'code': 'DSA', 'grade': 'A'}]}, {'enrollment': 'rit2011020', 'name': 'Samantha', 'subject': [{'code': 'COM', 'grade': 'B'}, {'code': 'DSA', 'grade': 'A'}]}]\n",
      "enrollment : rit2011020\n",
      "name : Samantha\n",
      "subject : [{'code': 'COM', 'grade': 'B'}, {'code': 'DSA', 'grade': 'A'}]\n"
     ]
    }
   ],
   "source": [
    "\n",
    "import sys\n",
    "import os\n",
    "import json\n",
    "import operator\n",
    "\n",
    "\n",
    "x = {\n",
    "    \"report\":[\n",
    "        {\n",
    "            \"enrollment\": \"rit2011001\",\n",
    "            \"name\": \"Julia\",\n",
    "            \"subject\":[\n",
    "                {\n",
    "                    \"code\": \"DSA\",\n",
    "                    \"grade\": \"A\"\n",
    "                }\n",
    "            ]\n",
    "        },\n",
    "        {\n",
    "            \"enrollment\": \"rit2011020\",\n",
    "            \"name\": \"Samantha\",\n",
    "            \"subject\":[\n",
    "                {\n",
    "                    \"code\": \"COM\",\n",
    "                    \"grade\": \"B\"\n",
    "                },\n",
    "                {\n",
    "                    \"code\": \"DSA\",\n",
    "                    \"grade\": \"A\"\n",
    "                }\n",
    "            ]\n",
    "        }\n",
    "    ]\n",
    "}\n",
    "code1 = []\n",
    "code1 = [None]*3\n",
    "grade1 = []\n",
    "grade1 = [None]*3\n",
    "strReport = x\n",
    "print(json.dumps(x))\n",
    "strReport = json.dumps(x)\n",
    "person_dict = json.loads(strReport)\n",
    "for key in person_dict:\n",
    " print(key)\n",
    "for key, value in person_dict.items():\n",
    " print(key,\":\",value)\n",
    " item1 = value[0]\n",
    " item2 = value[1]\n",
    "for key, value in item2.items():\n",
    " print(key,\":\",value)\n"
   ]
  },
  {
   "cell_type": "code",
   "execution_count": null,
   "metadata": {},
   "outputs": [],
   "source": []
  }
 ],
 "metadata": {
  "kernelspec": {
   "display_name": "Python 3",
   "language": "python",
   "name": "python3"
  },
  "language_info": {
   "codemirror_mode": {
    "name": "ipython",
    "version": 3
   },
   "file_extension": ".py",
   "mimetype": "text/x-python",
   "name": "python",
   "nbconvert_exporter": "python",
   "pygments_lexer": "ipython3",
   "version": "3.7.4"
  }
 },
 "nbformat": 4,
 "nbformat_minor": 2
}
